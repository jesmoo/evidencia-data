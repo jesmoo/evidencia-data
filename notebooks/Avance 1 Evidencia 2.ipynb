{
 "cells": [
  {
   "cell_type": "code",
   "execution_count": 2,
   "id": "bc517ef8-c9a5-40a4-beb5-f1144c2bed6a",
   "metadata": {},
   "outputs": [],
   "source": [
    "# Configuracion de spark\n",
    "\n",
    "import pyspark\n",
    "\n",
    "from pyspark.sql import SparkSession\n",
    "from pyspark.ml.feature import VectorAssembler, StandardScaler\n",
    "from pyspark.ml.clustering import KMeans\n",
    "from pyspark.ml.evaluation import ClusteringEvaluator\n",
    "\n",
    "\n",
    "app_name = \"Avance 1\"\n",
    "\n",
    "spark = SparkSession.builder \\\n",
    "    .appName(app_name) \\\n",
    "    .config(\"spark.jars\", \"/spark/jars/postgresql.jar\") \\\n",
    "    .getOrCreate()\n",
    "\n",
    "app_name = spark.conf.get(\"spark.app.name\")\n",
    "spark_context = spark.sparkContext.master\n"
   ]
  },
  {
   "cell_type": "code",
   "execution_count": 3,
   "id": "2989a552-d59f-4db7-8f1c-ea727afc191e",
   "metadata": {},
   "outputs": [
    {
     "name": "stdout",
     "output_type": "stream",
     "text": [
      "+--------+----------+---------------+---------+----------+--------+------------------+----------------+-----------+------------+\n",
      "|order_id|      date|      item_name|item_type|item_price|quantity|transaction_amount|transaction_type|received_by|time_of_sale|\n",
      "+--------+----------+---------------+---------+----------+--------+------------------+----------------+-----------+------------+\n",
      "|       1|07-03-2022|       Aalopuri| Fastfood|        20|      13|               260|            null|        Mr.|       Night|\n",
      "|       2| 8/23/2022|        Vadapav| Fastfood|        20|      15|               300|            Cash|        Mr.|   Afternoon|\n",
      "|       3|11/20/2022|        Vadapav| Fastfood|        20|       1|                20|            Cash|        Mr.|   Afternoon|\n",
      "|       4|02-03-2023|Sugarcane juice|Beverages|        25|       6|               150|          Online|        Mr.|       Night|\n",
      "|       5|10-02-2022|Sugarcane juice|Beverages|        25|       8|               200|          Online|        Mr.|     Evening|\n",
      "|       6|11/14/2022|        Vadapav| Fastfood|        20|      10|               200|            Cash|        Mr.|     Evening|\n",
      "|       7|05-03-2022|Sugarcane juice|Beverages|        25|       9|               225|            Cash|        Mr.|     Evening|\n",
      "|       8|12/22/2022|       Panipuri| Fastfood|        20|      14|               280|          Online|        Mr.|       Night|\n",
      "|       9|06-10-2022|       Panipuri| Fastfood|        20|       1|                20|            Cash|       Mrs.|     Morning|\n",
      "|      10| 9/16/2022|       Panipuri| Fastfood|        20|       5|               100|          Online|        Mr.|   Afternoon|\n",
      "|      11|12-01-2022|        Frankie| Fastfood|        50|       8|               400|          Online|       Mrs.|   Afternoon|\n",
      "|      12|07-12-2022|        Vadapav| Fastfood|        20|       8|               160|          Online|       Mrs.|       Night|\n",
      "|      13|12/22/2022|       Panipuri| Fastfood|        20|       9|               180|          Online|       Mrs.|   Afternoon|\n",
      "|      14|11/25/2022|        Frankie| Fastfood|        50|       4|               200|          Online|        Mr.|     Morning|\n",
      "|      15|02-03-2023|       Aalopuri| Fastfood|        20|       3|                60|            Cash|       Mrs.|     Evening|\n",
      "|      16| 4/14/2022|       Sandwich| Fastfood|        60|      11|               660|            null|       Mrs.|    Midnight|\n",
      "|      17|10/16/2022|       Panipuri| Fastfood|        20|      11|               220|            Cash|       Mrs.|     Morning|\n",
      "|      18|11-05-2022|       Panipuri| Fastfood|        20|      10|               200|            Cash|       Mrs.|       Night|\n",
      "|      19| 8/22/2022|       Panipuri| Fastfood|        20|      11|               220|            Cash|       Mrs.|       Night|\n",
      "|      20| 9/15/2022|    Cold coffee|Beverages|        40|      10|               400|          Online|        Mr.|       Night|\n",
      "+--------+----------+---------------+---------+----------+--------+------------------+----------------+-----------+------------+\n",
      "only showing top 20 rows\n",
      "\n",
      "None\n"
     ]
    }
   ],
   "source": [
    "# Cargar los datos\n",
    "archivo_csv = '/app/Balaji Fast Food Sales.csv'\n",
    "data_frame_balaji = spark.read.csv(archivo_csv, header=True, inferSchema=True)\n",
    "\n",
    "print(data_frame_balaji.show())"
   ]
  },
  {
   "cell_type": "code",
   "execution_count": 11,
   "id": "5d85901f-ae37-4d1e-820f-b13b633cd93f",
   "metadata": {},
   "outputs": [
    {
     "name": "stdout",
     "output_type": "stream",
     "text": [
      "+--------+-----------+-----------+\n",
      "|order_id|total_spent|total_items|\n",
      "+--------+-----------+-----------+\n",
      "|     148|        780|         13|\n",
      "|     463|        360|          6|\n",
      "|     471|        140|          7|\n",
      "|     496|        400|         10|\n",
      "|     833|         40|          2|\n",
      "|     243|        100|          5|\n",
      "|     392|        300|         15|\n",
      "|     540|        260|         13|\n",
      "|     623|        600|         15|\n",
      "|     737|        650|         13|\n",
      "|     858|        360|          9|\n",
      "|     897|        120|          6|\n",
      "|      31|        520|         13|\n",
      "|     516|        300|         12|\n",
      "|      85|         60|          3|\n",
      "|     137|        150|          6|\n",
      "|     251|        520|         13|\n",
      "|     451|        250|         10|\n",
      "|     580|        200|         10|\n",
      "|     808|         20|          1|\n",
      "+--------+-----------+-----------+\n",
      "only showing top 20 rows\n",
      "\n",
      "None\n"
     ]
    }
   ],
   "source": [
    "# Agrupar por order_id para obtener el total gastado y la cantidad total de artículos\n",
    "\n",
    "# Falto esta importacion\n",
    "from pyspark.sql.functions import sum\n",
    "\n",
    "df_grouped = data_frame_balaji.groupBy('order_id').agg(\n",
    "    sum('transaction_amount').alias('total_spent'),\n",
    "    sum('quantity').alias('total_items')\n",
    ")\n",
    "\n",
    "print(df_grouped.show())"
   ]
  },
  {
   "cell_type": "code",
   "execution_count": 8,
   "id": "eb234317-3b31-42c9-a0f0-afb027e08fcb",
   "metadata": {},
   "outputs": [],
   "source": [
    "# Selección de características para el modelo K-means\n",
    "\n",
    "feature_columns = ['total_spent', 'total_items']\n",
    "assembler = VectorAssembler(inputCols=feature_columns, outputCol=\"features\")\n"
   ]
  },
  {
   "cell_type": "code",
   "execution_count": 10,
   "id": "8ff4d188-32cf-4b2d-b87a-d189901beb96",
   "metadata": {},
   "outputs": [
    {
     "name": "stdout",
     "output_type": "stream",
     "text": [
      "+--------+------------+\n",
      "|order_id|    features|\n",
      "+--------+------------+\n",
      "|     148|[780.0,13.0]|\n",
      "|     463| [360.0,6.0]|\n",
      "|     471| [140.0,7.0]|\n",
      "|     496|[400.0,10.0]|\n",
      "|     833|  [40.0,2.0]|\n",
      "|     243| [100.0,5.0]|\n",
      "|     392|[300.0,15.0]|\n",
      "|     540|[260.0,13.0]|\n",
      "|     623|[600.0,15.0]|\n",
      "|     737|[650.0,13.0]|\n",
      "|     858| [360.0,9.0]|\n",
      "|     897| [120.0,6.0]|\n",
      "|      31|[520.0,13.0]|\n",
      "|     516|[300.0,12.0]|\n",
      "|      85|  [60.0,3.0]|\n",
      "|     137| [150.0,6.0]|\n",
      "|     251|[520.0,13.0]|\n",
      "|     451|[250.0,10.0]|\n",
      "|     580|[200.0,10.0]|\n",
      "|     808|  [20.0,1.0]|\n",
      "+--------+------------+\n",
      "only showing top 20 rows\n",
      "\n",
      "None\n"
     ]
    }
   ],
   "source": [
    "# Vector de características\n",
    "\n",
    "df_kmeans = assembler.transform(df_grouped).select('order_id', 'features')\n",
    "print(df_kmeans.show())\n"
   ]
  },
  {
   "cell_type": "code",
   "execution_count": 12,
   "id": "ad78f6a1-b398-44f4-a232-53c694993259",
   "metadata": {},
   "outputs": [
    {
     "name": "stdout",
     "output_type": "stream",
     "text": [
      "+--------+------------+--------------------+\n",
      "|order_id|    features|      scaledFeatures|\n",
      "+--------+------------+--------------------+\n",
      "|     148|[780.0,13.0]|[3.81599135777046...|\n",
      "|     463| [360.0,6.0]|[1.76122678050944...|\n",
      "|     471| [140.0,7.0]|[0.68492152575367...|\n",
      "|     496|[400.0,10.0]|[1.95691864501049...|\n",
      "|     833|  [40.0,2.0]|[0.19569186450104...|\n",
      "|     243| [100.0,5.0]|[0.48922966125262...|\n",
      "|     392|[300.0,15.0]|[1.46768898375787...|\n",
      "|     540|[260.0,13.0]|[1.27199711925682...|\n",
      "|     623|[600.0,15.0]|[2.93537796751574...|\n",
      "|     737|[650.0,13.0]|[3.17999279814205...|\n",
      "|     858| [360.0,9.0]|[1.76122678050944...|\n",
      "|     897| [120.0,6.0]|[0.58707559350314...|\n",
      "|      31|[520.0,13.0]|[2.54399423851364...|\n",
      "|     516|[300.0,12.0]|[1.46768898375787...|\n",
      "|      85|  [60.0,3.0]|[0.29353779675157...|\n",
      "|     137| [150.0,6.0]|[0.73384449187893...|\n",
      "|     251|[520.0,13.0]|[2.54399423851364...|\n",
      "|     451|[250.0,10.0]|[1.22307415313155...|\n",
      "|     580|[200.0,10.0]|[0.97845932250524...|\n",
      "|     808|  [20.0,1.0]|[0.09784593225052...|\n",
      "+--------+------------+--------------------+\n",
      "only showing top 20 rows\n",
      "\n",
      "None\n"
     ]
    }
   ],
   "source": [
    "# Preparacion para uso del algoritmo\n",
    "\n",
    "# Escalado de características\n",
    "scaler = StandardScaler(inputCol=\"features\", outputCol=\"scaledFeatures\", withStd=True, withMean=False)\n",
    "# calcula la media y la desviación estándar de cada característica en el DataFrame \n",
    "scalerModel = scaler.fit(df_kmeans)\n",
    "\n",
    "# con la instacina de la clase StandardScaler, generamos una columna que contiene las caracterisitcas\n",
    "df_scaled = scalerModel.transform(df_kmeans)\n",
    "\n",
    "print(df_scaled.show())\n"
   ]
  },
  {
   "cell_type": "code",
   "execution_count": 16,
   "id": "6d8b6732-e6a8-4798-92e4-8f866e796a1d",
   "metadata": {},
   "outputs": [
    {
     "name": "stdout",
     "output_type": "stream",
     "text": [
      "KMeansModel: uid=KMeans_b098b4bdf54b, k=3, distanceMeasure=euclidean, numFeatures=2\n"
     ]
    }
   ],
   "source": [
    "# Construcción del modelo K-means\n",
    "\n",
    "# creamos una instacia del algoritmo, diciendo que columna usar, y cuantos cluster queremos que encuentre\n",
    "kmeans = KMeans(featuresCol=\"scaledFeatures\", k=3)\n",
    "model = kmeans.fit(df_scaled)\n",
    "\n",
    "print(model)\n"
   ]
  },
  {
   "cell_type": "code",
   "execution_count": 19,
   "id": "11906800-b4ca-4ea7-bdb6-4dda863c4620",
   "metadata": {},
   "outputs": [
    {
     "name": "stdout",
     "output_type": "stream",
     "text": [
      "+--------+------------+--------------------+----------+\n",
      "|order_id|    features|      scaledFeatures|prediction|\n",
      "+--------+------------+--------------------+----------+\n",
      "|     148|[780.0,13.0]|[3.81599135777046...|         2|\n",
      "|     463| [360.0,6.0]|[1.76122678050944...|         0|\n",
      "|     471| [140.0,7.0]|[0.68492152575367...|         1|\n",
      "|     496|[400.0,10.0]|[1.95691864501049...|         0|\n",
      "|     833|  [40.0,2.0]|[0.19569186450104...|         1|\n",
      "|     243| [100.0,5.0]|[0.48922966125262...|         1|\n",
      "|     392|[300.0,15.0]|[1.46768898375787...|         0|\n",
      "|     540|[260.0,13.0]|[1.27199711925682...|         0|\n",
      "|     623|[600.0,15.0]|[2.93537796751574...|         2|\n",
      "|     737|[650.0,13.0]|[3.17999279814205...|         2|\n",
      "|     858| [360.0,9.0]|[1.76122678050944...|         0|\n",
      "|     897| [120.0,6.0]|[0.58707559350314...|         1|\n",
      "|      31|[520.0,13.0]|[2.54399423851364...|         2|\n",
      "|     516|[300.0,12.0]|[1.46768898375787...|         0|\n",
      "|      85|  [60.0,3.0]|[0.29353779675157...|         1|\n",
      "|     137| [150.0,6.0]|[0.73384449187893...|         1|\n",
      "|     251|[520.0,13.0]|[2.54399423851364...|         2|\n",
      "|     451|[250.0,10.0]|[1.22307415313155...|         0|\n",
      "|     580|[200.0,10.0]|[0.97845932250524...|         0|\n",
      "|     808|  [20.0,1.0]|[0.09784593225052...|         1|\n",
      "+--------+------------+--------------------+----------+\n",
      "only showing top 20 rows\n",
      "\n",
      "None\n"
     ]
    }
   ],
   "source": [
    "# Predecir los clusters\n",
    "predictions = model.transform(df_scaled)\n",
    "\n",
    "print(predictions.show())\n"
   ]
  },
  {
   "cell_type": "code",
   "execution_count": 23,
   "id": "250a65cf-793b-476b-8163-b393a982acbf",
   "metadata": {},
   "outputs": [
    {
     "name": "stdout",
     "output_type": "stream",
     "text": [
      "Coeficiente de silueta = 0.5963279828555033\n"
     ]
    }
   ],
   "source": [
    "# Evaluación del modelo\n",
    "evaluator = ClusteringEvaluator()\n",
    "\n",
    "silhouette = evaluator.evaluate(predictions)\n",
    "print(\"Coeficiente de silueta = \" + str(silhouette))\n"
   ]
  },
  {
   "cell_type": "code",
   "execution_count": 24,
   "id": "4e6462bb-6373-47e3-9fec-d04cb0028b7e",
   "metadata": {},
   "outputs": [
    {
     "name": "stdout",
     "output_type": "stream",
     "text": [
      "Cluster Centers: \n",
      "[1.48265555 2.41507218]\n",
      "[0.51356975 0.82542895]\n",
      "[3.28685999 2.94739883]\n"
     ]
    }
   ],
   "source": [
    "# Ver los resultados\n",
    "\n",
    "centers = model.clusterCenters()\n",
    "print(\"Cluster Centers: \")\n",
    "\n",
    "for center in centers:\n",
    "    print(center)\n"
   ]
  }
 ],
 "metadata": {
  "kernelspec": {
   "display_name": "Python 3 (ipykernel)",
   "language": "python",
   "name": "python3"
  },
  "language_info": {
   "codemirror_mode": {
    "name": "ipython",
    "version": 3
   },
   "file_extension": ".py",
   "mimetype": "text/x-python",
   "name": "python",
   "nbconvert_exporter": "python",
   "pygments_lexer": "ipython3",
   "version": "3.10.6"
  }
 },
 "nbformat": 4,
 "nbformat_minor": 5
}
