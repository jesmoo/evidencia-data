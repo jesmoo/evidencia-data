{
 "cells": [
  {
   "cell_type": "code",
   "execution_count": 2,
   "id": "4b40402b",
   "metadata": {},
   "outputs": [],
   "source": [
    "# Configuracion de spark\n",
    "\n",
    "import pyspark\n",
    "\n",
    "from pyspark.sql import SparkSession, DataFrameWriter, functions as F\n",
    "from pyspark.sql.types import *\n",
    "from pyspark.sql.functions import col, get_json_object\n",
    "\n",
    "app_name = \"Avance 2\"\n",
    "\n",
    "spark = SparkSession.builder \\\n",
    "    .appName(app_name) \\\n",
    "    .config(\"spark.jars\", \"/spark/jars/postgresql.jar\") \\\n",
    "    .getOrCreate()\n",
    "\n",
    "app_name = spark.conf.get(\"spark.app.name\")\n",
    "spark_context = spark.sparkContext.master\n"
   ]
  },
  {
   "cell_type": "code",
   "execution_count": 3,
   "id": "8731f4b9-fd9e-4d66-9196-4a4c5ba10703",
   "metadata": {},
   "outputs": [],
   "source": [
    "# Configuracion de las variables de entorno\n",
    "\n",
    "url = \"jdbc:postgresql://postgres:5432/metabase\"\n",
    "user = \"postgres\"\n",
    "password = \"password\""
   ]
  },
  {
   "cell_type": "code",
   "execution_count": 4,
   "id": "bfc1f95c-b610-4a60-a3ac-85b76ec5a844",
   "metadata": {},
   "outputs": [],
   "source": [
    "# Funcion para insertar los datos\n",
    "\n",
    "def insert_data_to_table(data_to_insert, local_table):\n",
    "    default_options = {\n",
    "        \"url\": url,\n",
    "        \"user\": user,\n",
    "        \"password\": password,\n",
    "        \"dbtable\": local_table\n",
    "    }\n",
    "\n",
    "    try:\n",
    "        data_to_insert.write \\\n",
    "            .format(\"jdbc\") \\\n",
    "            .options(**default_options) \\\n",
    "            .option(\"ignoreInserts\", \"true\") \\\n",
    "            .option(\"driver\", \"org.postgresql.Driver\") \\\n",
    "            .mode(\"append\") \\\n",
    "            .save()\n",
    "\n",
    "        local_table_saved = spark.read \\\n",
    "            .format(\"jdbc\") \\\n",
    "            .options(**default_options) \\\n",
    "            .load()\n",
    "\n",
    "        # Obtener el ID de la última inserción\n",
    "        last_insert_id = local_table_saved.selectExpr(\"max(id)\").first()[0]\n",
    "    except Exception as e:\n",
    "        print(f\"Error al insertar datos en la tabla {local_table}\")\n",
    "\n",
    "        last_insert_id = None\n",
    "\n",
    "    return last_insert_id\n"
   ]
  },
  {
   "cell_type": "code",
   "execution_count": 5,
   "id": "985061d4-c5f5-4bd2-8b84-a32c861f888a",
   "metadata": {},
   "outputs": [],
   "source": [
    "# Funcion parar crear los schemas en postgres\n",
    "\n",
    "def insert_data_to_table(data_to_insert, new_table):\n",
    "    default_options = {\n",
    "        \"url\": url,\n",
    "        \"user\": user,\n",
    "        \"password\": password,\n",
    "        \"dbtable\": new_table\n",
    "    }\n",
    "\n",
    "    try:\n",
    "        data_to_insert.write \\\n",
    "            .format(\"jdbc\") \\\n",
    "            .options(**default_options) \\\n",
    "            .option(\"ignoreInserts\", \"true\") \\\n",
    "            .option(\"driver\", \"org.postgresql.Driver\") \\\n",
    "            .mode(\"overwrite\") \\\n",
    "            .save()\n",
    "\n",
    "    except Exception as e:\n",
    "        print(f\"Error al crear la tabla {new_table}, {e}\")\n",
    "\n",
    "    return data_to_insert.show()\n"
   ]
  },
  {
   "cell_type": "code",
   "execution_count": 9,
   "id": "504da0aa",
   "metadata": {
    "scrolled": true
   },
   "outputs": [
    {
     "name": "stderr",
     "output_type": "stream",
     "text": [
      "                                                                                \r"
     ]
    },
    {
     "name": "stdout",
     "output_type": "stream",
     "text": [
      "+----------+------------+--------+-------------+\n",
      "|product_id|product_name|aisle_id|department_id|\n",
      "+----------+------------+--------+-------------+\n",
      "+----------+------------+--------+-------------+\n",
      "\n"
     ]
    }
   ],
   "source": [
    "# Crear y guardar schema de products en postrgres\n",
    "\n",
    "product_schema = StructType([\n",
    "    StructField(\"product_id\", IntegerType(), nullable=False),\n",
    "    StructField(\"product_name\", StringType(), nullable=False),\n",
    "    StructField(\"aisle_id\", IntegerType(), nullable=True),\n",
    "    StructField(\"department_id\", IntegerType(), nullable=True)\n",
    "])\n",
    "\n",
    "df_products_empty = spark.createDataFrame([], schema=product_schema)\n",
    "insert_data_to_table(df_products_empty, \"products\")"
   ]
  },
  {
   "cell_type": "code",
   "execution_count": null,
   "id": "b91e17af-2310-4ef9-bd19-f1bb6684d922",
   "metadata": {},
   "outputs": [],
   "source": []
  },
  {
   "cell_type": "code",
   "execution_count": 7,
   "id": "61e78be6",
   "metadata": {},
   "outputs": [
    {
     "name": "stdout",
     "output_type": "stream",
     "text": [
      "+----------+--------------------+--------+-------------+\n",
      "|product_id|        product_name|aisle_id|department_id|\n",
      "+----------+--------------------+--------+-------------+\n",
      "|         1|Chocolate Sandwic...|      61|           19|\n",
      "|         2|    All-Seasons Salt|     104|           13|\n",
      "|         3|Robust Golden Uns...|      94|            7|\n",
      "|         4|Smart Ones Classi...|      38|            1|\n",
      "|         5|Green Chile Anyti...|       5|           13|\n",
      "|         6|        Dry Nose Oil|      11|           11|\n",
      "|         7|Pure Coconut Wate...|      98|            7|\n",
      "|         8|Cut Russet Potato...|     116|            1|\n",
      "|         9|Light Strawberry ...|     120|           16|\n",
      "|        10|Sparkling Orange ...|     115|            7|\n",
      "|        11|   Peach Mango Juice|      31|            7|\n",
      "|        12|Chocolate Fudge L...|     119|            1|\n",
      "|        13|   Saline Nasal Mist|      11|           11|\n",
      "|        14|Fresh Scent Dishw...|      74|           17|\n",
      "|        15|Overnight Diapers...|      56|           18|\n",
      "|        16|Mint Chocolate Fl...|     103|           19|\n",
      "|        17|   Rendered Duck Fat|      35|           12|\n",
      "|        18|Pizza for One Sup...|      79|            1|\n",
      "|        19|Gluten Free Quino...|      63|            9|\n",
      "|        20|Pomegranate Cranb...|      98|            7|\n",
      "+----------+--------------------+--------+-------------+\n",
      "only showing top 20 rows\n",
      "\n",
      "None\n"
     ]
    }
   ],
   "source": [
    "# creacion y lectura del archivo\n",
    "\n",
    "archivo_csv = '/app/data/products.csv'\n",
    "\n",
    "data_frame_products = spark.read.csv(archivo_csv, header=True, inferSchema=True)\n",
    "\n",
    "print(data_frame_products.show())"
   ]
  },
  {
   "cell_type": "code",
   "execution_count": 9,
   "id": "5c78967c-26d3-487f-b1b9-96063c845ccb",
   "metadata": {},
   "outputs": [
    {
     "name": "stdout",
     "output_type": "stream",
     "text": [
      "+----------+--------------------+--------+-------------+\n",
      "|product_id|        product_name|aisle_id|department_id|\n",
      "+----------+--------------------+--------+-------------+\n",
      "|         1|Chocolate Sandwic...|      61|           19|\n",
      "|         2|    All-Seasons Salt|     104|           13|\n",
      "|         3|Robust Golden Uns...|      94|            7|\n",
      "|         4|Smart Ones Classi...|      38|            1|\n",
      "|         5|Green Chile Anyti...|       5|           13|\n",
      "|         6|        Dry Nose Oil|      11|           11|\n",
      "|         7|Pure Coconut Wate...|      98|            7|\n",
      "|         8|Cut Russet Potato...|     116|            1|\n",
      "|         9|Light Strawberry ...|     120|           16|\n",
      "|        10|Sparkling Orange ...|     115|            7|\n",
      "|        11|   Peach Mango Juice|      31|            7|\n",
      "|        12|Chocolate Fudge L...|     119|            1|\n",
      "|        13|   Saline Nasal Mist|      11|           11|\n",
      "|        14|Fresh Scent Dishw...|      74|           17|\n",
      "|        15|Overnight Diapers...|      56|           18|\n",
      "|        16|Mint Chocolate Fl...|     103|           19|\n",
      "|        17|   Rendered Duck Fat|      35|           12|\n",
      "|        18|Pizza for One Sup...|      79|            1|\n",
      "|        19|Gluten Free Quino...|      63|            9|\n",
      "|        20|Pomegranate Cranb...|      98|            7|\n",
      "+----------+--------------------+--------+-------------+\n",
      "only showing top 20 rows\n",
      "\n"
     ]
    },
    {
     "name": "stderr",
     "output_type": "stream",
     "text": [
      "                                                                                \r"
     ]
    }
   ],
   "source": [
    "insert_data_to_table(data_frame_products, 'products')"
   ]
  },
  {
   "cell_type": "code",
   "execution_count": 10,
   "id": "8266d846-d31c-4f4e-aa7d-94a109e0427c",
   "metadata": {},
   "outputs": [
    {
     "name": "stdout",
     "output_type": "stream",
     "text": [
      "+---+-----+\n",
      "| id|aisle|\n",
      "+---+-----+\n",
      "+---+-----+\n",
      "\n",
      "+--------+--------------------+\n",
      "|aisle_id|               aisle|\n",
      "+--------+--------------------+\n",
      "|       1|prepared soups sa...|\n",
      "|       2|   specialty cheeses|\n",
      "|       3| energy granola bars|\n",
      "|       4|       instant foods|\n",
      "|       5|marinades meat pr...|\n",
      "|       6|               other|\n",
      "|       7|       packaged meat|\n",
      "|       8|     bakery desserts|\n",
      "|       9|         pasta sauce|\n",
      "|      10|    kitchen supplies|\n",
      "|      11|    cold flu allergy|\n",
      "|      12|         fresh pasta|\n",
      "|      13|      prepared meals|\n",
      "|      14|tofu meat alterna...|\n",
      "|      15|    packaged seafood|\n",
      "|      16|         fresh herbs|\n",
      "|      17|  baking ingredients|\n",
      "|      18|bulk dried fruits...|\n",
      "|      19|       oils vinegars|\n",
      "|      20|        oral hygiene|\n",
      "+--------+--------------------+\n",
      "only showing top 20 rows\n",
      "\n"
     ]
    }
   ],
   "source": [
    "# creacion y lectura del archivo y guardado de aisles\n",
    "\n",
    "aisles_csv = \"/app/data/aisles.csv\"\n",
    "aisles_data_frame = spark.read.csv(aisles_csv, header=True, inferSchema=True)\n",
    "\n",
    "aisles_schema = StructType([\n",
    "    StructField(\"aisle_id\", IntegerType(), nullable=False),\n",
    "    StructField(\"aisle\", StringType(), nullable=False),\n",
    "])\n",
    "aisles_df_empty = spark.createDataFrame([], schema=aisles_schema)\n",
    "\n",
    "insert_data_to_table(aisles_df_empty, \"aisles\")\n",
    "insert_data_to_table(aisles_data_frame, 'aisles')\n"
   ]
  },
  {
   "cell_type": "code",
   "execution_count": 12,
   "id": "1cdba0ec-0f39-46a2-9206-cc32855af75e",
   "metadata": {},
   "outputs": [
    {
     "name": "stdout",
     "output_type": "stream",
     "text": [
      "+-------------+----------+\n",
      "|department_id|department|\n",
      "+-------------+----------+\n",
      "+-------------+----------+\n",
      "\n",
      "+-------------+---------------+\n",
      "|department_id|     department|\n",
      "+-------------+---------------+\n",
      "|            1|         frozen|\n",
      "|            2|          other|\n",
      "|            3|         bakery|\n",
      "|            4|        produce|\n",
      "|            5|        alcohol|\n",
      "|            6|  international|\n",
      "|            7|      beverages|\n",
      "|            8|           pets|\n",
      "|            9|dry goods pasta|\n",
      "|           10|           bulk|\n",
      "|           11|  personal care|\n",
      "|           12|   meat seafood|\n",
      "|           13|         pantry|\n",
      "|           14|      breakfast|\n",
      "|           15|   canned goods|\n",
      "|           16|     dairy eggs|\n",
      "|           17|      household|\n",
      "|           18|         babies|\n",
      "|           19|         snacks|\n",
      "|           20|           deli|\n",
      "+-------------+---------------+\n",
      "only showing top 20 rows\n",
      "\n"
     ]
    }
   ],
   "source": [
    "# creacion y lectura del archivo y guardado de aisles\n",
    "\n",
    "departments_csv = '/app/data/departments.csv'\n",
    "departments_data_frame = spark.read.csv(departments_csv, header=True, inferSchema=True)\n",
    "\n",
    "departments_schema = StructType([\n",
    "    StructField(\"department_id\", IntegerType(), nullable=False),\n",
    "    StructField(\"department\", StringType(), nullable=False),\n",
    "])\n",
    "departments_df_empty = spark.createDataFrame([], schema=departments_schema)\n",
    "\n",
    "insert_data_to_table(departments_df_empty, \"departments\")\n",
    "insert_data_to_table(departments_data_frame, '')\n"
   ]
  }
 ],
 "metadata": {
  "kernelspec": {
   "display_name": "Python 3 (ipykernel)",
   "language": "python",
   "name": "python3"
  },
  "language_info": {
   "codemirror_mode": {
    "name": "ipython",
    "version": 3
   },
   "file_extension": ".py",
   "mimetype": "text/x-python",
   "name": "python",
   "nbconvert_exporter": "python",
   "pygments_lexer": "ipython3",
   "version": "3.10.6"
  }
 },
 "nbformat": 4,
 "nbformat_minor": 5
}
