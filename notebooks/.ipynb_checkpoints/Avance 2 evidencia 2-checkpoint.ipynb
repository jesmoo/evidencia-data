{
 "cells": [
  {
   "cell_type": "code",
   "execution_count": 2,
   "id": "91ea44a9-dd96-4217-895e-40c6fa24ae8c",
   "metadata": {},
   "outputs": [],
   "source": [
    "# Configuracion de spark\n",
    "\n",
    "import pyspark\n",
    "\n",
    "from pyspark.sql import SparkSession\n",
    "from pyspark.ml.feature import VectorAssembler, StandardScaler\n",
    "from pyspark.ml.clustering import KMeans\n",
    "from pyspark.ml.evaluation import ClusteringEvaluator\n",
    "from pyspark.sql.functions import sum\n",
    "from pyspark.sql.types import StructType, StructField, StringType, IntegerType, DoubleType, DateType\n",
    "\n",
    "app_name = \"Avance 2\"\n",
    "\n",
    "spark = SparkSession.builder \\\n",
    "    .appName(app_name) \\\n",
    "    .config(\"spark.jars\", \"/spark/jars/postgresql.jar\") \\\n",
    "    .getOrCreate()\n",
    "\n",
    "app_name = spark.conf.get(\"spark.app.name\")\n",
    "spark_context = spark.sparkContext.master"
   ]
  },
  {
   "cell_type": "code",
   "execution_count": 3,
   "id": "3db6fd6a-e000-4c98-85e3-c2abbdd7653a",
   "metadata": {},
   "outputs": [],
   "source": [
    "# Creacion del schema\n",
    "\n",
    "schema = StructType([\n",
    "    StructField(\"id\", IntegerType(), True),\n",
    "    StructField(\"CustomerID\", DoubleType(), True),\n",
    "    StructField(\"Gender\", StringType(), True),\n",
    "    StructField(\"Location\", StringType(), True),\n",
    "    StructField(\"Tenure_Months\", DoubleType(), True),\n",
    "    StructField(\"Transaction_ID\", DoubleType(), True),\n",
    "    StructField(\"Transaction_Date\", DateType(), True),\n",
    "    StructField(\"Product_SKU\", StringType(), True),\n",
    "    StructField(\"Product_Description\", StringType(), True),\n",
    "    StructField(\"Product_Category\", StringType(), True),\n",
    "    StructField(\"Quantity\", IntegerType(), True),\n",
    "    StructField(\"Avg_Price\", DoubleType(), True),\n",
    "    StructField(\"Delivery_Charges\", DoubleType(), True),\n",
    "    StructField(\"Coupon_Status\", StringType(), True),\n",
    "    StructField(\"GST\", DoubleType(), True),\n",
    "    StructField(\"Date\", DateType(), True),\n",
    "    StructField(\"Offline_Spend\", DoubleType(), True),\n",
    "    StructField(\"Online_Spend\", DoubleType(), True),\n",
    "    StructField(\"Month\", IntegerType(), True),\n",
    "    StructField(\"Coupon_Code\", StringType(), True),\n",
    "    StructField(\"Discount_pct\", DoubleType(), True)\n",
    "])"
   ]
  },
  {
   "cell_type": "code",
   "execution_count": 5,
   "id": "14a1911e-8853-4e05-87ad-15dd0babec2b",
   "metadata": {},
   "outputs": [
    {
     "name": "stdout",
     "output_type": "stream",
     "text": [
      "+---+----------+------+--------+-------------+--------------+----------------+--------------+--------------------+----------------+--------+---------+----------------+-------------+---+----+-------------+------------+-----+-----------+------------+\n",
      "| id|CustomerID|Gender|Location|Tenure_Months|Transaction_ID|Transaction_Date|   Product_SKU| Product_Description|Product_Category|Quantity|Avg_Price|Delivery_Charges|Coupon_Status|GST|Date|Offline_Spend|Online_Spend|Month|Coupon_Code|Discount_pct|\n",
      "+---+----------+------+--------+-------------+--------------+----------------+--------------+--------------------+----------------+--------+---------+----------------+-------------+---+----+-------------+------------+-----+-----------+------------+\n",
      "|  0|   17850.0|     M| Chicago|         12.0|       16679.0|      2019-01-01|GGOENEBJ079499|Nest Learning The...|        Nest-USA|    null|   153.71|             6.5|         Used|0.1|null|       4500.0|      2424.5|    1|     ELEC10|        10.0|\n",
      "|  1|   17850.0|     M| Chicago|         12.0|       16680.0|      2019-01-01|GGOENEBJ079499|Nest Learning The...|        Nest-USA|    null|   153.71|             6.5|         Used|0.1|null|       4500.0|      2424.5|    1|     ELEC10|        10.0|\n",
      "|  2|   17850.0|     M| Chicago|         12.0|       16696.0|      2019-01-01|GGOENEBQ078999|Nest Cam Outdoor ...|        Nest-USA|    null|   122.77|             6.5|     Not Used|0.1|null|       4500.0|      2424.5|    1|     ELEC10|        10.0|\n",
      "|  3|   17850.0|     M| Chicago|         12.0|       16699.0|      2019-01-01|GGOENEBQ079099|Nest Protect Smok...|        Nest-USA|    null|     81.5|             6.5|      Clicked|0.1|null|       4500.0|      2424.5|    1|     ELEC10|        10.0|\n",
      "|  4|   17850.0|     M| Chicago|         12.0|       16700.0|      2019-01-01|GGOENEBJ079499|Nest Learning The...|        Nest-USA|    null|   153.71|             6.5|      Clicked|0.1|null|       4500.0|      2424.5|    1|     ELEC10|        10.0|\n",
      "|  5|   17850.0|     M| Chicago|         12.0|       16701.0|      2019-01-01|GGOENEBJ079499|Nest Learning The...|        Nest-USA|    null|   153.71|             6.5|      Clicked|0.1|null|       4500.0|      2424.5|    1|     ELEC10|        10.0|\n",
      "|  6|   17850.0|     M| Chicago|         12.0|       16702.0|      2019-01-01|GGOENEBJ079499|Nest Learning The...|        Nest-USA|    null|   153.71|             6.5|      Clicked|0.1|null|       4500.0|      2424.5|    1|     ELEC10|        10.0|\n",
      "|  7|   17850.0|     M| Chicago|         12.0|       16703.0|      2019-01-01|GGOENEBQ079099|Nest Protect Smok...|        Nest-USA|    null|     81.5|             6.5|     Not Used|0.1|null|       4500.0|      2424.5|    1|     ELEC10|        10.0|\n",
      "|  8|   17850.0|     M| Chicago|         12.0|       16704.0|      2019-01-01|GGOENEBJ079499|Nest Learning The...|        Nest-USA|    null|   256.88|             6.5|         Used|0.1|null|       4500.0|      2424.5|    1|     ELEC10|        10.0|\n",
      "|  9|   17850.0|     M| Chicago|         12.0|       16710.0|      2019-01-01|GGOENEBJ079499|Nest Learning The...|        Nest-USA|    null|   153.71|           28.78|      Clicked|0.1|null|       4500.0|      2424.5|    1|     ELEC10|        10.0|\n",
      "| 10|   17850.0|     M| Chicago|         12.0|       16713.0|      2019-01-01|GGOENEBQ078999|Nest Cam Outdoor ...|        Nest-USA|    null|   122.77|             6.5|         Used|0.1|null|       4500.0|      2424.5|    1|     ELEC10|        10.0|\n",
      "| 11|   17850.0|     M| Chicago|         12.0|       16719.0|      2019-01-01|GGOENEBJ079499|Nest Learning The...|        Nest-USA|    null|   153.71|             6.5|     Not Used|0.1|null|       4500.0|      2424.5|    1|     ELEC10|        10.0|\n",
      "| 12|   17850.0|     M| Chicago|         12.0|       16720.0|      2019-01-01|GGOENEBJ079499|Nest Learning The...|        Nest-USA|    null|   153.71|             6.5|         Used|0.1|null|       4500.0|      2424.5|    1|     ELEC10|        10.0|\n",
      "| 13|   17850.0|     M| Chicago|         12.0|       16720.0|      2019-01-01|GGOENEBQ078999|Nest Cam Outdoor ...|        Nest-USA|    null|   122.77|             6.5|      Clicked|0.1|null|       4500.0|      2424.5|    1|     ELEC10|        10.0|\n",
      "| 14|   17850.0|     M| Chicago|         12.0|       16721.0|      2019-01-01|GGOENEBJ079499|Nest Learning The...|        Nest-USA|    null|   153.71|             6.5|      Clicked|0.1|null|       4500.0|      2424.5|    1|     ELEC10|        10.0|\n",
      "| 15|   17850.0|     M| Chicago|         12.0|       16722.0|      2019-01-01|GGOENEBJ079499|Nest Learning The...|        Nest-USA|    null|   153.71|             6.5|         Used|0.1|null|       4500.0|      2424.5|    1|     ELEC10|        10.0|\n",
      "| 16|   17850.0|     M| Chicago|         12.0|       16722.0|      2019-01-01|GGOENEBQ078999|Nest Cam Outdoor ...|        Nest-USA|    null|   122.77|             6.5|         Used|0.1|null|       4500.0|      2424.5|    1|     ELEC10|        10.0|\n",
      "| 17|   17850.0|     M| Chicago|         12.0|       16723.0|      2019-01-01|GGOENEBB078899|Nest Cam Indoor S...|        Nest-USA|    null|   122.77|             6.5|         Used|0.1|null|       4500.0|      2424.5|    1|     ELEC10|        10.0|\n",
      "| 18|   17850.0|     M| Chicago|         12.0|       16723.0|      2019-01-01|GGOENEBQ078999|Nest Cam Outdoor ...|        Nest-USA|    null|   122.77|             6.5|     Not Used|0.1|null|       4500.0|      2424.5|    1|     ELEC10|        10.0|\n",
      "| 19|   17850.0|     M| Chicago|         12.0|       16724.0|      2019-01-01|GGOENEBB078899|Nest Cam Indoor S...|        Nest-USA|    null|   122.77|             6.5|      Clicked|0.1|null|       4500.0|      2424.5|    1|     ELEC10|        10.0|\n",
      "+---+----------+------+--------+-------------+--------------+----------------+--------------+--------------------+----------------+--------+---------+----------------+-------------+---+----+-------------+------------+-----+-----------+------------+\n",
      "only showing top 20 rows\n",
      "\n",
      "None\n"
     ]
    }
   ],
   "source": [
    "# Cargar los datos\n",
    "archivo_csv = '/app/onlineShoppingDataset/file.csv'\n",
    "online_shopping = spark.read.csv(archivo_csv, header=True, schema=schema)\n",
    "\n",
    "print(online_shopping.show())"
   ]
  },
  {
   "cell_type": "code",
   "execution_count": 31,
   "id": "b33f18c2-25af-4c70-9925-479435df9865",
   "metadata": {},
   "outputs": [
    {
     "name": "stdout",
     "output_type": "stream",
     "text": [
      "+---+----------+------+--------+-------------+--------------+----------------+--------------+--------------------+----------------+--------+---------+----------------+-------------+---+----+-------------+------------+-----+-----------+------------+------------+--------------+-----------------+-------------------------+----------------------+-------------------+-----------------+\n",
      "| id|CustomerID|Gender|Location|Tenure_Months|Transaction_ID|Transaction_Date|   Product_SKU| Product_Description|Product_Category|Quantity|Avg_Price|Delivery_Charges|Coupon_Status|GST|Date|Offline_Spend|Online_Spend|Month|Coupon_Code|Discount_pct|Gender_index|Location_index|Product_SKU_index|Product_Description_index|Product_Category_index|Coupon_Status_index|Coupon_Code_index|\n",
      "+---+----------+------+--------+-------------+--------------+----------------+--------------+--------------------+----------------+--------+---------+----------------+-------------+---+----+-------------+------------+-----+-----------+------------+------------+--------------+-----------------+-------------------------+----------------------+-------------------+-----------------+\n",
      "|  0|   17850.0|     M| Chicago|         12.0|       16679.0|      2019-01-01|GGOENEBJ079499|Nest Learning The...|        Nest-USA|    null|   153.71|             6.5|         Used|0.1|null|       4500.0|      2424.5|    1|     ELEC10|        10.0|         1.0|           0.0|              0.0|                      0.0|                   1.0|                1.0|              3.0|\n",
      "|  1|   17850.0|     M| Chicago|         12.0|       16680.0|      2019-01-01|GGOENEBJ079499|Nest Learning The...|        Nest-USA|    null|   153.71|             6.5|         Used|0.1|null|       4500.0|      2424.5|    1|     ELEC10|        10.0|         1.0|           0.0|              0.0|                      0.0|                   1.0|                1.0|              3.0|\n",
      "|  2|   17850.0|     M| Chicago|         12.0|       16696.0|      2019-01-01|GGOENEBQ078999|Nest Cam Outdoor ...|        Nest-USA|    null|   122.77|             6.5|     Not Used|0.1|null|       4500.0|      2424.5|    1|     ELEC10|        10.0|         1.0|           0.0|              1.0|                      1.0|                   1.0|                2.0|              3.0|\n",
      "|  3|   17850.0|     M| Chicago|         12.0|       16699.0|      2019-01-01|GGOENEBQ079099|Nest Protect Smok...|        Nest-USA|    null|     81.5|             6.5|      Clicked|0.1|null|       4500.0|      2424.5|    1|     ELEC10|        10.0|         1.0|           0.0|              3.0|                      4.0|                   1.0|                0.0|              3.0|\n",
      "|  4|   17850.0|     M| Chicago|         12.0|       16700.0|      2019-01-01|GGOENEBJ079499|Nest Learning The...|        Nest-USA|    null|   153.71|             6.5|      Clicked|0.1|null|       4500.0|      2424.5|    1|     ELEC10|        10.0|         1.0|           0.0|              0.0|                      0.0|                   1.0|                0.0|              3.0|\n",
      "|  5|   17850.0|     M| Chicago|         12.0|       16701.0|      2019-01-01|GGOENEBJ079499|Nest Learning The...|        Nest-USA|    null|   153.71|             6.5|      Clicked|0.1|null|       4500.0|      2424.5|    1|     ELEC10|        10.0|         1.0|           0.0|              0.0|                      0.0|                   1.0|                0.0|              3.0|\n",
      "|  6|   17850.0|     M| Chicago|         12.0|       16702.0|      2019-01-01|GGOENEBJ079499|Nest Learning The...|        Nest-USA|    null|   153.71|             6.5|      Clicked|0.1|null|       4500.0|      2424.5|    1|     ELEC10|        10.0|         1.0|           0.0|              0.0|                      0.0|                   1.0|                0.0|              3.0|\n",
      "|  7|   17850.0|     M| Chicago|         12.0|       16703.0|      2019-01-01|GGOENEBQ079099|Nest Protect Smok...|        Nest-USA|    null|     81.5|             6.5|     Not Used|0.1|null|       4500.0|      2424.5|    1|     ELEC10|        10.0|         1.0|           0.0|              3.0|                      4.0|                   1.0|                2.0|              3.0|\n",
      "|  8|   17850.0|     M| Chicago|         12.0|       16704.0|      2019-01-01|GGOENEBJ079499|Nest Learning The...|        Nest-USA|    null|   256.88|             6.5|         Used|0.1|null|       4500.0|      2424.5|    1|     ELEC10|        10.0|         1.0|           0.0|              0.0|                      0.0|                   1.0|                1.0|              3.0|\n",
      "|  9|   17850.0|     M| Chicago|         12.0|       16710.0|      2019-01-01|GGOENEBJ079499|Nest Learning The...|        Nest-USA|    null|   153.71|           28.78|      Clicked|0.1|null|       4500.0|      2424.5|    1|     ELEC10|        10.0|         1.0|           0.0|              0.0|                      0.0|                   1.0|                0.0|              3.0|\n",
      "| 10|   17850.0|     M| Chicago|         12.0|       16713.0|      2019-01-01|GGOENEBQ078999|Nest Cam Outdoor ...|        Nest-USA|    null|   122.77|             6.5|         Used|0.1|null|       4500.0|      2424.5|    1|     ELEC10|        10.0|         1.0|           0.0|              1.0|                      1.0|                   1.0|                1.0|              3.0|\n",
      "| 11|   17850.0|     M| Chicago|         12.0|       16719.0|      2019-01-01|GGOENEBJ079499|Nest Learning The...|        Nest-USA|    null|   153.71|             6.5|     Not Used|0.1|null|       4500.0|      2424.5|    1|     ELEC10|        10.0|         1.0|           0.0|              0.0|                      0.0|                   1.0|                2.0|              3.0|\n",
      "| 12|   17850.0|     M| Chicago|         12.0|       16720.0|      2019-01-01|GGOENEBJ079499|Nest Learning The...|        Nest-USA|    null|   153.71|             6.5|         Used|0.1|null|       4500.0|      2424.5|    1|     ELEC10|        10.0|         1.0|           0.0|              0.0|                      0.0|                   1.0|                1.0|              3.0|\n",
      "| 13|   17850.0|     M| Chicago|         12.0|       16720.0|      2019-01-01|GGOENEBQ078999|Nest Cam Outdoor ...|        Nest-USA|    null|   122.77|             6.5|      Clicked|0.1|null|       4500.0|      2424.5|    1|     ELEC10|        10.0|         1.0|           0.0|              1.0|                      1.0|                   1.0|                0.0|              3.0|\n",
      "| 14|   17850.0|     M| Chicago|         12.0|       16721.0|      2019-01-01|GGOENEBJ079499|Nest Learning The...|        Nest-USA|    null|   153.71|             6.5|      Clicked|0.1|null|       4500.0|      2424.5|    1|     ELEC10|        10.0|         1.0|           0.0|              0.0|                      0.0|                   1.0|                0.0|              3.0|\n",
      "| 15|   17850.0|     M| Chicago|         12.0|       16722.0|      2019-01-01|GGOENEBJ079499|Nest Learning The...|        Nest-USA|    null|   153.71|             6.5|         Used|0.1|null|       4500.0|      2424.5|    1|     ELEC10|        10.0|         1.0|           0.0|              0.0|                      0.0|                   1.0|                1.0|              3.0|\n",
      "| 16|   17850.0|     M| Chicago|         12.0|       16722.0|      2019-01-01|GGOENEBQ078999|Nest Cam Outdoor ...|        Nest-USA|    null|   122.77|             6.5|         Used|0.1|null|       4500.0|      2424.5|    1|     ELEC10|        10.0|         1.0|           0.0|              1.0|                      1.0|                   1.0|                1.0|              3.0|\n",
      "| 17|   17850.0|     M| Chicago|         12.0|       16723.0|      2019-01-01|GGOENEBB078899|Nest Cam Indoor S...|        Nest-USA|    null|   122.77|             6.5|         Used|0.1|null|       4500.0|      2424.5|    1|     ELEC10|        10.0|         1.0|           0.0|              2.0|                      2.0|                   1.0|                1.0|              3.0|\n",
      "| 18|   17850.0|     M| Chicago|         12.0|       16723.0|      2019-01-01|GGOENEBQ078999|Nest Cam Outdoor ...|        Nest-USA|    null|   122.77|             6.5|     Not Used|0.1|null|       4500.0|      2424.5|    1|     ELEC10|        10.0|         1.0|           0.0|              1.0|                      1.0|                   1.0|                2.0|              3.0|\n",
      "| 19|   17850.0|     M| Chicago|         12.0|       16724.0|      2019-01-01|GGOENEBB078899|Nest Cam Indoor S...|        Nest-USA|    null|   122.77|             6.5|      Clicked|0.1|null|       4500.0|      2424.5|    1|     ELEC10|        10.0|         1.0|           0.0|              2.0|                      2.0|                   1.0|                0.0|              3.0|\n",
      "+---+----------+------+--------+-------------+--------------+----------------+--------------+--------------------+----------------+--------+---------+----------------+-------------+---+----+-------------+------------+-----+-----------+------------+------------+--------------+-----------------+-------------------------+----------------------+-------------------+-----------------+\n",
      "only showing top 20 rows\n",
      "\n",
      "None\n"
     ]
    }
   ],
   "source": [
    "# Convertir columnas categóricas en numéricas\n",
    "from pyspark.ml.feature import StringIndexer, OneHotEncoder, VectorAssembler, StandardScaler\n",
    "from pyspark.ml import Pipeline\n",
    "\n",
    "cat_cols = [t[0] for t in online_shopping.dtypes if t[1] == 'string']\n",
    "indexers = [\n",
    "    StringIndexer(inputCol=column, outputCol=column+\"_index\", handleInvalid='keep').fit(online_shopping) \n",
    "    for column in cat_cols\n",
    "]\n",
    "pipeline = Pipeline(stages=indexers)\n",
    "df_r = pipeline.fit(online_shopping).transform(online_shopping)\n",
    "\n",
    "print(df_r.show())"
   ]
  },
  {
   "cell_type": "code",
   "execution_count": 32,
   "id": "49966249-cef8-4730-8137-a1fa178c0c47",
   "metadata": {},
   "outputs": [],
   "source": [
    "# Seleccionar columnas relevantes para la segmentación\n",
    "\n",
    "feature_cols = num_cols + [c + \"_index\" for c in cat_cols]\n",
    "assembler = VectorAssembler(inputCols=feature_cols, outputCol=\"features\")"
   ]
  },
  {
   "cell_type": "code",
   "execution_count": 33,
   "id": "c228224b-ad32-4986-9c23-e257f0819db2",
   "metadata": {},
   "outputs": [],
   "source": [
    "# Como tenemos nullos rellenamos los datos\n",
    "\n",
    "df_r = df_r.na.fill(0)"
   ]
  },
  {
   "cell_type": "code",
   "execution_count": 34,
   "id": "9054254d-16ff-4c4d-a757-8df0415c3631",
   "metadata": {},
   "outputs": [],
   "source": [
    "# Implementación de K-means\n",
    "\n",
    "scaler = StandardScaler(inputCol=\"features\", outputCol=\"scaledFeatures\")"
   ]
  },
  {
   "cell_type": "code",
   "execution_count": 35,
   "id": "bfaef0fd-192c-403b-81c5-47cd4e084389",
   "metadata": {},
   "outputs": [],
   "source": [
    "# Configurar el algoritmo K-means\n",
    "\n",
    "kmeans = KMeans(featuresCol='scaledFeatures', k=5)"
   ]
  },
  {
   "cell_type": "code",
   "execution_count": 36,
   "id": "e3ee9a54-3b50-42a7-82c3-0f4932556d06",
   "metadata": {},
   "outputs": [
    {
     "name": "stderr",
     "output_type": "stream",
     "text": [
      "23/11/22 23:17:12 WARN InstanceBuilder: Failed to load implementation from:dev.ludovic.netlib.blas.JNIBLAS\n",
      "23/11/22 23:17:12 WARN InstanceBuilder: Failed to load implementation from:dev.ludovic.netlib.blas.VectorBLAS\n"
     ]
    }
   ],
   "source": [
    "pipeline = Pipeline(stages=[assembler, scaler, kmeans])\n",
    "\n",
    "model = pipeline.fit(df_r)"
   ]
  },
  {
   "cell_type": "code",
   "execution_count": 39,
   "id": "6adbf10f-91d8-4f72-998e-c460c4b88872",
   "metadata": {},
   "outputs": [
    {
     "name": "stdout",
     "output_type": "stream",
     "text": [
      "Cluster Centers: \n",
      "[1.68256575 8.70543915 1.95189859 3.5938249  0.         0.37136288\n",
      " 0.52772433 3.85017407 3.00634136 2.30955414 1.84232409 2.55803353\n",
      " 0.76998777 1.01328131 2.4953124  2.22837979 0.1186276  0.8807127\n",
      " 0.24662745]\n",
      "[1.34301307 8.64021451 1.96243941 4.84882441 0.         1.76345879\n",
      " 0.40555289 2.13157738 3.52513156 2.72410166 3.08083792 2.95871068\n",
      " 0.78639398 1.01042389 0.11220683 0.19841379 0.68581403 0.88241591\n",
      " 0.89473608]\n",
      "[2.17783739 8.58408635 1.93596861 3.9450754  0.         0.24689608\n",
      " 0.53706838 3.66667716 2.80345    2.22294641 2.20936042 2.21621966\n",
      " 0.76369379 1.04264499 0.44726852 0.53743868 0.6028304  0.87899969\n",
      " 0.64583185]\n",
      "[1.40749665 8.86334338 1.92547572 2.67255763 0.         1.11863763\n",
      " 0.63256684 2.61848888 2.90623719 2.21331211 0.90787218 2.30212642\n",
      " 0.78111882 1.05009288 0.16859103 0.32320246 0.52359669 0.87939384\n",
      " 0.70713469]\n",
      "[2.17609539 8.67130377 1.89932614 3.64232437 0.         0.46639323\n",
      " 0.67106134 2.00619434 2.94829211 2.3007182  1.89747695 2.41529405\n",
      " 0.80184005 1.01243507 0.91493975 2.08986699 3.53943411 0.87876957\n",
      " 3.70233478]\n"
     ]
    }
   ],
   "source": [
    "# Evaluación de Resultados\n",
    "\n",
    "centers = model.stages[-1].clusterCenters()\n",
    "print(\"Cluster Centers: \")\n",
    "\n",
    "for center in centers:\n",
    "    print(center)"
   ]
  },
  {
   "cell_type": "code",
   "execution_count": 41,
   "id": "2c2d2d6e-20e3-4e41-8e09-d94cfc95aa73",
   "metadata": {},
   "outputs": [
    {
     "name": "stdout",
     "output_type": "stream",
     "text": [
      "+----------+--------------------+----------+\n",
      "|CustomerID|      scaledFeatures|prediction|\n",
      "+----------+--------------------+----------+\n",
      "|   17850.0|[0.0,10.107365352...|         3|\n",
      "|   17850.0|[6.54153320295751...|         3|\n",
      "|   17850.0|[1.30830664059150...|         3|\n",
      "|   17850.0|[1.96245996088725...|         3|\n",
      "|   17850.0|[2.61661328118300...|         3|\n",
      "|   17850.0|[3.27076660147875...|         3|\n",
      "|   17850.0|[3.92491992177450...|         3|\n",
      "|   17850.0|[4.57907324207025...|         3|\n",
      "|   17850.0|[5.23322656236601...|         3|\n",
      "|   17850.0|[5.88737988266176...|         3|\n",
      "|   17850.0|[6.54153320295751...|         3|\n",
      "|   17850.0|[7.19568652325326...|         3|\n",
      "|   17850.0|[7.84983984354901...|         3|\n",
      "|   17850.0|[8.50399316384476...|         3|\n",
      "|   17850.0|[9.15814648414051...|         3|\n",
      "|   17850.0|[9.81229980443627...|         3|\n",
      "|   17850.0|[0.00104664531247...|         3|\n",
      "|   17850.0|[0.00111206064450...|         3|\n",
      "|   17850.0|[0.00117747597653...|         3|\n",
      "|   17850.0|[0.00124289130856...|         3|\n",
      "+----------+--------------------+----------+\n",
      "only showing top 20 rows\n",
      "\n"
     ]
    }
   ],
   "source": [
    "# Transformar los datos para obtener las etiquetas de cluster\n",
    "\n",
    "result = model.transform(df_r)\n",
    "result.select('CustomerID', 'scaledFeatures', 'prediction').show()"
   ]
  },
  {
   "cell_type": "code",
   "execution_count": 42,
   "id": "5066687b-353d-4c3d-8cd6-748b5395b4db",
   "metadata": {},
   "outputs": [],
   "source": [
    "# Escogemos un segmento\n",
    "\n",
    "segment = result.filter(result['prediction'] == 0)"
   ]
  },
  {
   "cell_type": "code",
   "execution_count": 43,
   "id": "b8a9c165-69cd-4dd6-8a9a-6c51f0cb20de",
   "metadata": {},
   "outputs": [
    {
     "name": "stdout",
     "output_type": "stream",
     "text": [
      "+----------+------------------+-----------------+\n",
      "|prediction|avg(Tenure_Months)|   avg(Avg_Price)|\n",
      "+----------+------------------+-----------------+\n",
      "|         0| 26.29596223769822|23.76233465770619|\n",
      "+----------+------------------+-----------------+\n",
      "\n"
     ]
    }
   ],
   "source": [
    "# Analizar características comunes\n",
    "\n",
    "avg_values = segment.groupBy('prediction').mean('Tenure_Months', 'Avg_Price')\n",
    "avg_values.show()"
   ]
  },
  {
   "cell_type": "code",
   "execution_count": 44,
   "id": "d7f3eb3f-c9e7-4b78-bcac-374cae2ed884",
   "metadata": {},
   "outputs": [
    {
     "name": "stdout",
     "output_type": "stream",
     "text": [
      "+--------------------+-----+\n",
      "|    Product_Category|count|\n",
      "+--------------------+-----+\n",
      "|             Apparel| 7705|\n",
      "|           Drinkware|  374|\n",
      "|              Office|  338|\n",
      "|           Lifestyle|  161|\n",
      "|                Bags|   58|\n",
      "|            Nest-USA|   36|\n",
      "|                Nest|   14|\n",
      "|Notebooks & Journals|    1|\n",
      "+--------------------+-----+\n",
      "\n"
     ]
    }
   ],
   "source": [
    "# Contar las categorías más comunes para una variable categórica\n",
    "\n",
    "common_categories = segment.groupBy('Product_Category').count().orderBy('count', ascending=False)\n",
    "common_categories.show()"
   ]
  },
  {
   "cell_type": "code",
   "execution_count": 52,
   "id": "65688131-df41-47a1-8b8e-79bce55d844c",
   "metadata": {},
   "outputs": [],
   "source": [
    "from pyspark.ml.fpm import FPGrowth\n",
    "from pyspark.sql.functions import collect_set\n",
    "\n",
    "# Transformar los datos en un formato adecuado para FPGrowth\n",
    "\n",
    "transactions = segment.groupBy(\"Transaction_ID\").agg(collect_set(\"Product_Description\").alias(\"items\"))\n"
   ]
  },
  {
   "cell_type": "code",
   "execution_count": 53,
   "id": "6399a4ca-6f4c-41f9-8613-90dcc73e316b",
   "metadata": {},
   "outputs": [],
   "source": [
    "# Aplicar FPGrowth\n",
    "\n",
    "fpGrowth = FPGrowth(itemsCol=\"items\", minSupport=0.05, minConfidence=0.1)\n",
    "model = fpGrowth.fit(transactions)"
   ]
  },
  {
   "cell_type": "code",
   "execution_count": 54,
   "id": "2ab22087-a180-4a5e-adf0-a8103705fad2",
   "metadata": {},
   "outputs": [
    {
     "name": "stdout",
     "output_type": "stream",
     "text": [
      "+-----+----+\n",
      "|items|freq|\n",
      "+-----+----+\n",
      "+-----+----+\n",
      "\n"
     ]
    }
   ],
   "source": [
    "# Mostrar conjuntos de elementos frecuentes\n",
    "\n",
    "frequent_itemsets = model.freqItemsets\n",
    "frequent_itemsets.show()"
   ]
  },
  {
   "cell_type": "code",
   "execution_count": 55,
   "id": "041fc822-c180-473b-a9a9-2309bae5838b",
   "metadata": {},
   "outputs": [
    {
     "name": "stdout",
     "output_type": "stream",
     "text": [
      "+----------+----------+----------+----+-------+\n",
      "|antecedent|consequent|confidence|lift|support|\n",
      "+----------+----------+----------+----+-------+\n",
      "+----------+----------+----------+----+-------+\n",
      "\n"
     ]
    }
   ],
   "source": [
    "# Generar reglas de asociación\n",
    "\n",
    "association_rules = model.associationRules\n",
    "association_rules.show()"
   ]
  },
  {
   "cell_type": "code",
   "execution_count": 56,
   "id": "24c05c19-ba6a-4cf1-a981-caa396442f02",
   "metadata": {},
   "outputs": [
    {
     "name": "stdout",
     "output_type": "stream",
     "text": [
      "+----------+----------+----------+----+-------+\n",
      "|antecedent|consequent|confidence|lift|support|\n",
      "+----------+----------+----------+----+-------+\n",
      "+----------+----------+----------+----+-------+\n",
      "\n"
     ]
    }
   ],
   "source": [
    "association_rules.orderBy(\"lift\", ascending=False).show()"
   ]
  }
 ],
 "metadata": {
  "kernelspec": {
   "display_name": "Python 3 (ipykernel)",
   "language": "python",
   "name": "python3"
  },
  "language_info": {
   "codemirror_mode": {
    "name": "ipython",
    "version": 3
   },
   "file_extension": ".py",
   "mimetype": "text/x-python",
   "name": "python",
   "nbconvert_exporter": "python",
   "pygments_lexer": "ipython3",
   "version": "3.10.6"
  }
 },
 "nbformat": 4,
 "nbformat_minor": 5
}
